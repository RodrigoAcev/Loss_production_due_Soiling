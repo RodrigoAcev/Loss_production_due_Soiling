{
 "cells": [
  {
   "cell_type": "code",
   "execution_count": 1,
   "id": "40b0c13b",
   "metadata": {},
   "outputs": [],
   "source": [
    "import numpy as np\n",
    "import os\n",
    "import copy\n",
    "import functools\n",
    "\n",
    "import pickle as pk\n",
    "from PIL import Image, ImageOps\n",
    "\n",
    "import matplotlib.pyplot as plt\n",
    "import seaborn as sns\n",
    "\n",
    "#import SP_dataset\n"
   ]
  },
  {
   "cell_type": "code",
   "execution_count": 2,
   "id": "fb5aa439",
   "metadata": {},
   "outputs": [],
   "source": [
    "#%%\n",
    "from diskcache import FanoutCache, Disk\n",
    "import logging\n",
    "\n",
    "log = logging.getLogger(__name__)\n",
    "# log.setLevel(logging.WARN)\n",
    "# log.setLevel(logging.INFO)\n",
    "log.setLevel(logging.DEBUG)\n",
    "\n",
    "def getCache(scope_str):\n",
    "    return FanoutCache('./tmp/cache/' + scope_str,\n",
    "                       #disk=GzipDisk,\n",
    "                       shards=64,\n",
    "                       timeout=1,\n",
    "                       size_limit=3e11,\n",
    "                       # disk_min_file_size=2**20,\n",
    "                       )\n",
    "\n",
    "raw_cache = getCache('soil')"
   ]
  },
  {
   "cell_type": "markdown",
   "id": "ec45e047",
   "metadata": {},
   "source": [
    "## Data extraction"
   ]
  },
  {
   "cell_type": "code",
   "execution_count": 3,
   "id": "5eed0d1e",
   "metadata": {},
   "outputs": [],
   "source": [
    "from sklearn.neighbors import KernelDensity\n",
    "\n",
    "@functools.lru_cache(1)\n",
    "\n",
    "def Get_images_list(folder_path):\n",
    "    #input: path as str\n",
    "    #output: image path array, target array\n",
    "    \n",
    "    assert os.path.exists(folder_path), \"Selected path doesn't exists\"\n",
    "    \n",
    "    f_paths = []\n",
    "\n",
    "    for src_p, folder_p, f_names in os.walk('./PanelImages/'):\n",
    "        for f_name in f_names:\n",
    "            if src_p[-1]!='/':\n",
    "                src_p = src_p+'/'\n",
    "            f_paths.append(src_p+f_name)\n",
    "\n",
    "    loss_arr = np.array([float(x.split('L_')[-1].split('_I')[0]) for x in f_paths])\n",
    "    \n",
    "    return np.array(f_paths), loss_arr\n",
    "\n",
    "def plot_dist(values):\n",
    "    #input: array 1-D\n",
    "    #output: kde + hist plot\n",
    "    \n",
    "    \n",
    "    fig, axs = plt.subplots(figsize=(8,5))\n",
    "\n",
    "    axs.hist(values, density=True, bins=30, alpha=.8, color='darkred')\n",
    "    p = sns.kdeplot(values, ax=axs, color='darkblue')\n",
    " \n",
    "    axs.grid()\n",
    "    plt.show()\n",
    "    "
   ]
  },
  {
   "cell_type": "code",
   "execution_count": 4,
   "id": "7e59b760",
   "metadata": {},
   "outputs": [
    {
     "data": {
      "image/png": "[encoded data removed]",
      "text/plain": [
       "<Figure size 576x360 with 1 Axes>"
      ]
     },
     "metadata": {
      "needs_background": "light"
     },
     "output_type": "display_data"
    }
   ],
   "source": [
    "paths_list, targets = Get_images_list('./PanelImages/')\n",
    "plot_dist(targets)"
   ]
  },
  {
   "cell_type": "markdown",
   "id": "7a5dbb44",
   "metadata": {},
   "source": [
    "## Train & Test Split"
   ]
  },
  {
   "cell_type": "code",
   "execution_count": 5,
   "id": "c484fdc0",
   "metadata": {},
   "outputs": [],
   "source": [
    "def Get_test_indx(targets, test_split=0.0, random_state=24):\n",
    "    #inputs: numpy.array-like\n",
    "    #outputs: test_indexes\n",
    "    \n",
    "    bins = np.arange(0,1.1,.1)\n",
    "    \n",
    "    class_arr = np.digitize(targets, bins, right=False)\n",
    "    #class_arr and targets has the same size\n",
    "    \n",
    "    total_test_idx = []\n",
    "    \n",
    "    np.random.seed(random_state)\n",
    "    for class_i in np.unique(class_arr):\n",
    "        \n",
    "        class_idx_i = np.nonzero(class_arr==class_i)[0]\n",
    "        \n",
    "        test_idx_i = np.random.choice(class_idx_i, \n",
    "                              round(class_idx_i.shape[0]*test_split),\n",
    "                              replace=False)\n",
    "\n",
    "        total_test_idx.extend(test_idx_i)\n",
    "    \n",
    "    return total_test_idx\n",
    "\n",
    "def Train_Test_Split(x, y, test_split=0.0, random_state=24):\n",
    "    test_indexes = Get_test_indx(y, test_split=test_split, random_state=random_state)\n",
    "    \n",
    "    return np.delete(x,test_indexes,0), x[test_indexes], np.delete(y,test_indexes,0), y[test_indexes]"
   ]
  },
  {
   "cell_type": "code",
   "execution_count": 6,
   "id": "a2fa6f2a",
   "metadata": {},
   "outputs": [],
   "source": [
    "X_train, X_test, y_train, y_test = Train_Test_Split(paths_list, targets, test_split=.2, random_state=24)"
   ]
  },
  {
   "cell_type": "code",
   "execution_count": 7,
   "id": "bbc64932",
   "metadata": {},
   "outputs": [
    {
     "data": {
      "text/plain": [
       "(36603,)"
      ]
     },
     "execution_count": 7,
     "metadata": {},
     "output_type": "execute_result"
    }
   ],
   "source": [
    "X_train.shape"
   ]
  },
  {
   "cell_type": "code",
   "execution_count": 8,
   "id": "1adf443f",
   "metadata": {},
   "outputs": [
    {
     "data": {
      "text/plain": [
       "(9151,)"
      ]
     },
     "execution_count": 8,
     "metadata": {},
     "output_type": "execute_result"
    }
   ],
   "source": [
    "y_test.shape"
   ]
  },
  {
   "cell_type": "code",
   "execution_count": 9,
   "id": "bc6f2873",
   "metadata": {},
   "outputs": [
    {
     "data": {
      "image/png": "[encoded data removed]",
      "text/plain": [
       "<Figure size 576x360 with 1 Axes>"
      ]
     },
     "metadata": {
      "needs_background": "light"
     },
     "output_type": "display_data"
    }
   ],
   "source": [
    "plot_dist(y_test)"
   ]
  },
  {
   "cell_type": "markdown",
   "id": "03b9dbb6",
   "metadata": {},
   "source": [
    "## Training dataset"
   ]
  },
  {
   "cell_type": "code",
   "execution_count": 10,
   "id": "84bc2b79",
   "metadata": {},
   "outputs": [],
   "source": [
    "import torch\n",
    "from torch.utils.data import DataLoader, Dataset\n",
    "##\n",
    "#Create dataset\n",
    "\n",
    "\n",
    "@raw_cache.memoize(typed=True)\n",
    "def Get_image(img_path):\n",
    "    return np.array(ImageOps.grayscale(Image.open(img_path)).resize((28,28)))\n",
    "\n",
    "\n",
    "class SoilDataset(Dataset):\n",
    "\n",
    "    def __init__(self,\n",
    "                 images_paths,\n",
    "                 target_arr,\n",
    "                 val_side = False,\n",
    "                 val_split = 0.0,\n",
    "                 random_state = 24,\n",
    "                 classic_ml = False,\n",
    "                 normalize=False):\n",
    "        \n",
    "        self.targets = target_arr\n",
    "        self.data_path = images_paths\n",
    "\n",
    "        self.classic_ml = classic_ml\n",
    "        self.normalize = normalize\n",
    "        \n",
    "        if val_split>0:\n",
    "            assert val_split<=1, '\"val_split\" must be between 0 to 1.0'\n",
    "            np.random.seed(random_state)\n",
    "\n",
    "            test_indexes = np.random.choice(self.data_path.shape[0],\n",
    "                                           int(self.data_path.shape[0]*val_split),\n",
    "                                           replace=False)            \n",
    "\n",
    "            if val_side:\n",
    "                self.data_path = self.data_path[test_indexes]\n",
    "                self.targets = self.targets[test_indexes]\n",
    "            else:\n",
    "                self.data_path = np.delete(self.data_path, test_indexes, 0)\n",
    "                self.targets = np.delete(self.targets, test_indexes, 0)\n",
    "        \n",
    "\n",
    "    def __len__(self):\n",
    "        return self.data_path.shape[0]\n",
    "\n",
    "\n",
    "    def __getitem__(self, index):\n",
    "\n",
    "        x = Get_image(self.data_path[index])\n",
    "        y = self.targets[index]\n",
    "        \n",
    "        if self.normalize:\n",
    "            x = x/255\n",
    "\n",
    "        if self.classic_ml:\n",
    "            x = torch.from_numpy(x.reshape(1,-1)).float()\n",
    "        else:\n",
    "            x = torch.from_numpy(x).float()\n",
    "\n",
    "        return x, torch.tensor(y).float()\n"
   ]
  },
  {
   "cell_type": "code",
   "execution_count": 11,
   "id": "164d44bb",
   "metadata": {},
   "outputs": [],
   "source": [
    "def show_me_image(img, img_label='unknown'):\n",
    "    #input: torch tensor\n",
    "    #output: image show\n",
    "    img_arr = copy.copy(img)\n",
    "    img_label_arr = copy.copy(img_label)\n",
    "    if type(img).__module__=='torch':\n",
    "        img_arr = img_arr.numpy()\n",
    "        img_label_arr = img_label_arr.numpy()\n",
    "    \n",
    "    img_arr = img.reshape(-1,28)\n",
    "    \n",
    "    fig, ax = plt.subplots(figsize=(5,5))\n",
    "    \n",
    "    ax.imshow(img_arr, cmap='gray')\n",
    "    ax.text(1,1,img_label_arr)\n",
    "    plt.show()"
   ]
  },
  {
   "cell_type": "code",
   "execution_count": 12,
   "id": "77f9b1f6",
   "metadata": {},
   "outputs": [
    {
     "name": "stdout",
     "output_type": "stream",
     "text": [
      "cuda:0\n"
     ]
    }
   ],
   "source": [
    "device = torch.device('cuda:0' if torch.cuda.is_available() else 'cpu')\n",
    "\n",
    "print(device)"
   ]
  },
  {
   "cell_type": "code",
   "execution_count": 13,
   "id": "46fdeb52",
   "metadata": {},
   "outputs": [
    {
     "data": {
      "image/png": "[encoded data removed]",
      "text/plain": [
       "<Figure size 360x360 with 1 Axes>"
      ]
     },
     "metadata": {
      "needs_background": "light"
     },
     "output_type": "display_data"
    }
   ],
   "source": [
    "# get some random training images\n",
    "\n",
    "#Dataloader\n",
    "soil_dataset = SoilDataset(images_paths=X_train,\n",
    "                           target_arr=y_train,\n",
    "                           classic_ml=False,\n",
    "                           normalize=True)\n",
    "\n",
    "train_dataloader = DataLoader(soil_dataset, batch_size=64, shuffle=True)\n",
    "dataiter = iter(train_dataloader)\n",
    "images, labels = dataiter.next()\n",
    "\n",
    "#images display:\n",
    "\n",
    "show_me_image(images[0], labels[0])"
   ]
  },
  {
   "cell_type": "markdown",
   "id": "2b462c9b",
   "metadata": {},
   "source": [
    "## Neural Network class:"
   ]
  },
  {
   "cell_type": "code",
   "execution_count": 14,
   "id": "271ce935",
   "metadata": {},
   "outputs": [
    {
     "name": "stdout",
     "output_type": "stream",
     "text": [
      "nn_model(\n",
      "  (fc1): Linear(in_features=784, out_features=1024, bias=True)\n",
      "  (fc2): Linear(in_features=1024, out_features=1024, bias=True)\n",
      "  (fc3): Linear(in_features=1024, out_features=256, bias=True)\n",
      "  (outl): Linear(in_features=256, out_features=1, bias=True)\n",
      ")\n"
     ]
    }
   ],
   "source": [
    "import torch.nn as nn\n",
    "import torch.nn.functional as F\n",
    "\n",
    "class nn_model(nn.Module):\n",
    "    def __init__(self):\n",
    "        super(nn_model, self).__init__()\n",
    " \n",
    "        #model arch:\n",
    "        self.fc1 = nn.Linear(28*28, 512)\n",
    "        self.fc2 = nn.Linear(512, 512)\n",
    "        self.fc3 = nn.Linear(512, 256)\n",
    "        self.outl = nn.Linear(256,1)\n",
    "        \n",
    "    def forward(self, x):\n",
    "        x = torch.tanh(self.fc1(x))\n",
    "        x = torch.tanh(self.fc2(x))\n",
    "        x = torch.tanh(self.fc3(x))\n",
    "        x = torch.sigmoid(self.outl(x))\n",
    "        return x\n",
    "    \n",
    "\n",
    "my_net = nn_model()\n",
    "my_net.to(device)\n",
    "print(my_net)"
   ]
  },
  {
   "cell_type": "markdown",
   "id": "592a99c5",
   "metadata": {},
   "source": [
    "### Training parameters:"
   ]
  },
  {
   "cell_type": "code",
   "execution_count": 15,
   "id": "88b97bc4",
   "metadata": {},
   "outputs": [],
   "source": [
    "# Training parameters:\n",
    "epochs = 200\n",
    "batch_size = 64\n",
    "\n",
    "learning_rate = 0.0001\n",
    "\n",
    "train_dataset = SoilDataset(images_paths=X_train,\n",
    "                            target_arr=y_train,\n",
    "                            val_side=False,\n",
    "                            val_split = .2,\n",
    "                            random_state=42,\n",
    "                            classic_ml=True,\n",
    "                            normalize=True)\n",
    "\n",
    "val_dataset = SoilDataset(images_paths=X_train,\n",
    "                            target_arr=y_train,\n",
    "                            val_side=True,\n",
    "                            val_split = .2,\n",
    "                            random_state=42,\n",
    "                            classic_ml=True,\n",
    "                            normalize=True)\n",
    "\n",
    "\n",
    "train_dataloader = DataLoader(train_dataset, batch_size=batch_size, shuffle=True)\n",
    "val_dataloader = DataLoader(val_dataset, batch_size=batch_size, shuffle=True)\n",
    "\n",
    "\n",
    "#Loss function:\n",
    "criterion = nn.MSELoss()\n",
    "\n",
    "#Optimizer:\n",
    "optimizer = torch.optim.Adam(my_net.parameters(), lr = learning_rate)"
   ]
  },
  {
   "cell_type": "markdown",
   "id": "418e1ab4",
   "metadata": {},
   "source": [
    "## Training"
   ]
  },
  {
   "cell_type": "code",
   "execution_count": 16,
   "id": "5ff8b106",
   "metadata": {
    "scrolled": true
   },
   "outputs": [
    {
     "name": "stdout",
     "output_type": "stream",
     "text": [
      "epoch 0009 of 0200 | loss: 0.0137 - val_loss: 0.0128         \n",
      "epoch: 10\n",
      "epoch 0019 of 0200 | loss: 0.0121 - val_loss: 0.0132         \n",
      "epoch: 20\n",
      "epoch 0029 of 0200 | loss: 0.0111 - val_loss: 0.0120         \n",
      "epoch: 30\n",
      "epoch 0039 of 0200 | loss: 0.0103 - val_loss: 0.0126         \n",
      "epoch: 40\n",
      "epoch 0049 of 0200 | loss: 0.0097 - val_loss: 0.0103         \n",
      "epoch: 50\n",
      "epoch 0059 of 0200 | loss: 0.0095 - val_loss: 0.0126         \n",
      "epoch: 60\n",
      "epoch 0069 of 0200 | loss: 0.0082 - val_loss: 0.0084         \n",
      "epoch: 70\n",
      "epoch 0079 of 0200 | loss: 0.0083 - val_loss: 0.0082         \n",
      "epoch: 80\n",
      "epoch 0089 of 0200 | loss: 0.0079 - val_loss: 0.0083         \n",
      "epoch: 90\n",
      "epoch 0099 of 0200 | loss: 0.0086 - val_loss: 0.0100         \n",
      "epoch: 100\n",
      "epoch 0109 of 0200 | loss: 0.0078 - val_loss: 0.0077         \n",
      "epoch: 110\n",
      "epoch 0119 of 0200 | loss: 0.0072 - val_loss: 0.0085         \n",
      "epoch: 120\n",
      "epoch 0129 of 0200 | loss: 0.0076 - val_loss: 0.0074         \n",
      "epoch: 130\n",
      "epoch 0139 of 0200 | loss: 0.0070 - val_loss: 0.0083         \n",
      "epoch: 140\n",
      "epoch 0149 of 0200 | loss: 0.0071 - val_loss: 0.0074         \n",
      "epoch: 150\n",
      "epoch 0159 of 0200 | loss: 0.0066 - val_loss: 0.0086         \n",
      "epoch: 160\n",
      "epoch 0169 of 0200 | loss: 0.0064 - val_loss: 0.0073         \n",
      "epoch: 170\n",
      "epoch 0179 of 0200 | loss: 0.0064 - val_loss: 0.0074         \n",
      "epoch: 180\n",
      "epoch 0189 of 0200 | loss: 0.0065 - val_loss: 0.0153         \n",
      "epoch: 190\n",
      "epoch 0199 of 0200 | loss: 0.0064 - val_loss: 0.0072         \n",
      "epoch: 200\n",
      "Finished Training\n"
     ]
    }
   ],
   "source": [
    "epoch_loss = []\n",
    "val_loss = []\n",
    "for epoch in range(epochs): \n",
    "    \n",
    "    running_loss = 0.0\n",
    "\n",
    "    for i, data in enumerate(train_dataloader, 0):\n",
    "        \n",
    "        inputs, labels = data[0].to(device), data[1].to(device)\n",
    "\n",
    "        # zero the parameter gradients\n",
    "        optimizer.zero_grad()\n",
    "\n",
    "        # forward:\n",
    "        outputs = my_net(inputs).reshape(-1,1)\n",
    "        \n",
    "        #loss:\n",
    "        loss = criterion(outputs, labels.unsqueeze(1))\n",
    "        \n",
    "        #backpropagation:\n",
    "        loss.backward()\n",
    "        optimizer.step()\n",
    "\n",
    "        # print statistics\n",
    "        running_loss += loss.item()*inputs.size(0)\n",
    "        \n",
    "    running_loss = running_loss/train_dataset.__len__()\n",
    "    epoch_loss.append(running_loss)\n",
    "    \n",
    "    val_i_loss = 0\n",
    "    for i, val_data in enumerate(val_dataloader):\n",
    "        val_i_loss += criterion(my_net(val_data[0].to(device)).reshape(-1,1), \n",
    "                                val_data[1].to(device).unsqueeze(1)).item()*val_data[0].size(0)\n",
    "    val_loss.append(val_i_loss/val_dataset.__len__())\n",
    "    \n",
    "    \n",
    "    print(f'epoch {epoch:04d} of {epochs:04d} | loss: {running_loss:.4f} - val_loss: {val_loss[-1]:.4f}         ', end='\\r')\n",
    "    if (epoch+1)%10==0:\n",
    "        print(f'\\nepoch: {epoch+1}')\n",
    "\n",
    "print('Finished Training')"
   ]
  },
  {
   "cell_type": "code",
   "execution_count": 17,
   "id": "2809beb1",
   "metadata": {},
   "outputs": [],
   "source": [
    "def plot_training_graph(train_hist, val_hist):\n",
    "    fig, axs = plt.subplots(figsize=(8,5))\n",
    "    \n",
    "    axs.plot(train_hist, label='train loss', color='darkblue')\n",
    "    axs.plot(val_hist, label='val loss', color='darkred')\n",
    "    \n",
    "    axs.set_ylim([0, max(train_hist + val_hist)+ np.std(train_hist + val_hist)])\n",
    "    axs.set_xlabel('Epoch')\n",
    "    axs.set_ylabel('Loss')\n",
    "    axs.legend()\n",
    "    axs.grid()\n",
    "    plt.show()"
   ]
  },
  {
   "cell_type": "code",
   "execution_count": 18,
   "id": "624a47a3",
   "metadata": {
    "scrolled": true
   },
   "outputs": [
    {
     "data": {
      "image/png": "[encoded data removed]",
      "text/plain": [
       "<Figure size 576x360 with 1 Axes>"
      ]
     },
     "metadata": {
      "needs_background": "light"
     },
     "output_type": "display_data"
    }
   ],
   "source": [
    "plot_training_graph(epoch_loss, val_loss)"
   ]
  },
  {
   "cell_type": "code",
   "execution_count": 19,
   "id": "a81944fa",
   "metadata": {},
   "outputs": [],
   "source": [
    "model_path = './Soil_model_v2.pth'"
   ]
  },
  {
   "cell_type": "code",
   "execution_count": 20,
   "id": "1a865c14",
   "metadata": {},
   "outputs": [],
   "source": [
    "torch.save(my_net.state_dict(), model_path)"
   ]
  },
  {
   "cell_type": "code",
   "execution_count": 21,
   "id": "4ead49c5",
   "metadata": {},
   "outputs": [
    {
     "data": {
      "text/plain": [
       "nn_model(\n",
       "  (fc1): Linear(in_features=784, out_features=1024, bias=True)\n",
       "  (fc2): Linear(in_features=1024, out_features=1024, bias=True)\n",
       "  (fc3): Linear(in_features=1024, out_features=256, bias=True)\n",
       "  (outl): Linear(in_features=256, out_features=1, bias=True)\n",
       ")"
      ]
     },
     "execution_count": 21,
     "metadata": {},
     "output_type": "execute_result"
    }
   ],
   "source": [
    "my_model = nn_model()\n",
    "my_model.load_state_dict(torch.load(model_path))\n",
    "my_model.eval()"
   ]
  },
  {
   "cell_type": "markdown",
   "id": "70a4884c",
   "metadata": {},
   "source": [
    "## Evaluation"
   ]
  },
  {
   "cell_type": "code",
   "execution_count": 22,
   "id": "836d7ba8",
   "metadata": {},
   "outputs": [],
   "source": [
    "test_dataset = SoilDataset(images_paths=X_test,\n",
    "                            target_arr=y_test,\n",
    "                            random_state=42,\n",
    "                            classic_ml=True,\n",
    "                            normalize=True)\n",
    "\n",
    "test_dataloader = DataLoader(test_dataset, batch_size=test_dataset.__len__())\n"
   ]
  },
  {
   "cell_type": "code",
   "execution_count": 23,
   "id": "bc49f369",
   "metadata": {},
   "outputs": [
    {
     "data": {
      "text/plain": [
       "torch.Size([9151, 1, 1])"
      ]
     },
     "execution_count": 23,
     "metadata": {},
     "output_type": "execute_result"
    }
   ],
   "source": [
    "my_model.to(device)\n",
    "for i, data in enumerate(test_dataloader, 0):\n",
    "    inputs, labels = data[0].to(device), data[1].to(device)\n",
    "\n",
    "    outputs = my_model(inputs)\n",
    "outputs.shape"
   ]
  },
  {
   "cell_type": "code",
   "execution_count": 24,
   "id": "c653f232",
   "metadata": {},
   "outputs": [
    {
     "data": {
      "text/plain": [
       "array([[0.06975151],\n",
       "       [0.02610777],\n",
       "       [0.01626912],\n",
       "       [0.18239082],\n",
       "       [0.0380908 ]], dtype=float32)"
      ]
     },
     "execution_count": 24,
     "metadata": {},
     "output_type": "execute_result"
    }
   ],
   "source": [
    "y_hat = outputs.reshape(-1,1).cpu().detach().numpy()\n",
    "\n",
    "y_hat[:5]"
   ]
  },
  {
   "cell_type": "code",
   "execution_count": 25,
   "id": "119f51db",
   "metadata": {},
   "outputs": [
    {
     "data": {
      "text/plain": [
       "0.9185235293421649"
      ]
     },
     "execution_count": 25,
     "metadata": {},
     "output_type": "execute_result"
    }
   ],
   "source": [
    "from sklearn.metrics import r2_score, mean_squared_error\n",
    "\n",
    "r2_score(y_test.reshape(-1,1), y_hat)"
   ]
  },
  {
   "cell_type": "code",
   "execution_count": 26,
   "id": "f4cfcbcb",
   "metadata": {},
   "outputs": [
    {
     "data": {
      "text/plain": [
       "0.0065645272007163035"
      ]
     },
     "execution_count": 26,
     "metadata": {},
     "output_type": "execute_result"
    }
   ],
   "source": [
    "mean_squared_error(y_test.reshape(-1,1), y_hat)"
   ]
  },
  {
   "cell_type": "code",
   "execution_count": 27,
   "id": "feb140f2",
   "metadata": {},
   "outputs": [],
   "source": [
    "def plot_residplot(y_true, y_hat):\n",
    "    fig, axs = plt.subplots(1,2, figsize=(10,5))\n",
    "    resid = y_true - y_hat\n",
    "    axs[0].scatter(y_hat, resid, edgecolors='whitesmoke')\n",
    "    axs[0].set_title('Residual plot')\n",
    "    axs[0].set_xlabel('y hat')\n",
    "    axs[0].set_ylabel('Residuals')\n",
    "    axs[0].grid()\n",
    "    \n",
    "    p = sns.kdeplot(resid, ax=axs[1], color='k')\n",
    "    axs[1].hist(resid, density=True, bins=30, alpha=.7)\n",
    "    axs[1].set_title('Error distribution')\n",
    "    axs[1].set_ylabel('count')\n",
    "    axs[1].grid()\n",
    "    \n",
    "    plt.show()"
   ]
  },
  {
   "cell_type": "code",
   "execution_count": 28,
   "id": "385480e9",
   "metadata": {},
   "outputs": [
    {
     "data": {
      "image/png": "[encoded data removed]",
      "text/plain": [
       "<Figure size 720x360 with 2 Axes>"
      ]
     },
     "metadata": {
      "needs_background": "light"
     },
     "output_type": "display_data"
    }
   ],
   "source": [
    "plot_residplot(y_test.reshape(-1,), y_hat.reshape(-1,))"
   ]
  }
 ],
 "metadata": {
  "kernelspec": {
   "display_name": "Python 3 (ipykernel)",
   "language": "python",
   "name": "python3"
  },
  "language_info": {
   "codemirror_mode": {
    "name": "ipython",
    "version": 3
   },
   "file_extension": ".py",
   "mimetype": "text/x-python",
   "name": "python",
   "nbconvert_exporter": "python",
   "pygments_lexer": "ipython3",
   "version": "3.8.0"
  }
 },
 "nbformat": 4,
 "nbformat_minor": 5
}
